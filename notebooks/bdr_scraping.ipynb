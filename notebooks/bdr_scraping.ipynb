{
 "cells": [
  {
   "cell_type": "markdown",
   "id": "a6453b1e-89c8-41ae-81d7-bd431ede7281",
   "metadata": {},
   "source": [
    "## Imports\n",
    "---"
   ]
  },
  {
   "cell_type": "code",
   "execution_count": 1,
   "id": "fb647c4b-188a-4a68-9845-a896ccda4df2",
   "metadata": {},
   "outputs": [],
   "source": [
    "import pandas as pd\n",
    "import yfinance as yf\n",
    "from urllib.request import Request, urlopen\n",
    "from datetime import datetime, timedelta\n",
    "import os"
   ]
  },
  {
   "cell_type": "markdown",
   "id": "f3c4e79e-c796-4334-b903-559440efdaff",
   "metadata": {},
   "source": [
    "## Helper functions\n",
    "---"
   ]
  },
  {
   "cell_type": "code",
   "execution_count": 2,
   "id": "40e9193d-b58b-4c40-9429-5a4bd9f285e1",
   "metadata": {},
   "outputs": [],
   "source": [
    "start_date = (datetime.now() - timedelta(days=18 * 30)).strftime('%Y-%m-%d')"
   ]
  },
  {
   "cell_type": "markdown",
   "id": "be56cfd6-50fa-4933-ac7d-616289af59aa",
   "metadata": {},
   "source": [
    "## Scraping\n",
    "---"
   ]
  },
  {
   "cell_type": "code",
   "execution_count": 3,
   "id": "e11116c9-9f8d-4f48-b692-4c89ae4753da",
   "metadata": {},
   "outputs": [
    {
     "data": {
      "text/html": [
       "<div>\n",
       "<style scoped>\n",
       "    .dataframe tbody tr th:only-of-type {\n",
       "        vertical-align: middle;\n",
       "    }\n",
       "\n",
       "    .dataframe tbody tr th {\n",
       "        vertical-align: top;\n",
       "    }\n",
       "\n",
       "    .dataframe thead th {\n",
       "        text-align: right;\n",
       "    }\n",
       "</style>\n",
       "<table border=\"1\" class=\"dataframe\">\n",
       "  <thead>\n",
       "    <tr style=\"text-align: right;\">\n",
       "      <th></th>\n",
       "      <th>0</th>\n",
       "      <th>1</th>\n",
       "      <th>2</th>\n",
       "      <th>3</th>\n",
       "    </tr>\n",
       "  </thead>\n",
       "  <tbody>\n",
       "    <tr>\n",
       "      <th>0</th>\n",
       "      <td>EMPRESA</td>\n",
       "      <td>CÓDIGO</td>\n",
       "      <td>SETOR</td>\n",
       "      <td>PAÍS DE ORIGEM</td>\n",
       "    </tr>\n",
       "    <tr>\n",
       "      <th>1</th>\n",
       "      <td>3M</td>\n",
       "      <td>MMMC34</td>\n",
       "      <td>Indústria diversificada</td>\n",
       "      <td>EUA</td>\n",
       "    </tr>\n",
       "    <tr>\n",
       "      <th>2</th>\n",
       "      <td>AB INBEV</td>\n",
       "      <td>ABUD34</td>\n",
       "      <td>Bebidas</td>\n",
       "      <td>Bélgica</td>\n",
       "    </tr>\n",
       "    <tr>\n",
       "      <th>3</th>\n",
       "      <td>ABB LTD</td>\n",
       "      <td>A1BB34</td>\n",
       "      <td>Industrial</td>\n",
       "      <td>Switzerland</td>\n",
       "    </tr>\n",
       "    <tr>\n",
       "      <th>4</th>\n",
       "      <td>ABBOTT</td>\n",
       "      <td>ABTT34</td>\n",
       "      <td>Farmacêuticos</td>\n",
       "      <td>EUA</td>\n",
       "    </tr>\n",
       "  </tbody>\n",
       "</table>\n",
       "</div>"
      ],
      "text/plain": [
       "          0       1                        2               3\n",
       "0   EMPRESA  CÓDIGO                    SETOR  PAÍS DE ORIGEM\n",
       "1        3M  MMMC34  Indústria diversificada             EUA\n",
       "2  AB INBEV  ABUD34                  Bebidas         Bélgica\n",
       "3   ABB LTD  A1BB34               Industrial     Switzerland\n",
       "4    ABBOTT  ABTT34            Farmacêuticos             EUA"
      ]
     },
     "execution_count": 3,
     "metadata": {},
     "output_type": "execute_result"
    }
   ],
   "source": [
    "url = \"https://investnews.com.br/financas/veja-a-lista-completa-dos-bdrs-disponiveis-para-pessoas-fisicas-na-b3/\"\n",
    "headers = {\"User-Agent\": \"Mozilla/5.0\"}\n",
    "html = urlopen(Request(url, headers=headers)).read()\n",
    "bdr_raw = pd.read_html(html)[0]\n",
    "\n",
    "bdr_raw.head()"
   ]
  },
  {
   "cell_type": "markdown",
   "id": "146816bd-5d5e-4ee9-b710-693490d435bd",
   "metadata": {},
   "source": [
    "## Data processing\n",
    "---"
   ]
  },
  {
   "cell_type": "code",
   "execution_count": 4,
   "id": "1d775651-6ee6-4a24-bfa4-bac558a349d7",
   "metadata": {},
   "outputs": [],
   "source": [
    "bdr_raw.columns = bdr_raw.iloc[0]\n",
    "bdr = bdr_raw.drop(index=0).reset_index(drop=True)"
   ]
  },
  {
   "cell_type": "markdown",
   "id": "28e7f54e-15fa-4bb9-812c-69bc01bc139e",
   "metadata": {},
   "source": [
    "## Transform\n",
    "---"
   ]
  },
  {
   "cell_type": "code",
   "execution_count": 5,
   "id": "6e95ad82-a30e-4772-80c0-e797bfe5dba7",
   "metadata": {},
   "outputs": [],
   "source": [
    "tickers = [f\"{codigo}.SA\" for codigo in bdr['CÓDIGO']]"
   ]
  },
  {
   "cell_type": "code",
   "execution_count": 6,
   "id": "f16c9431-193c-424c-b078-105046e07622",
   "metadata": {},
   "outputs": [
    {
     "name": "stdout",
     "output_type": "stream",
     "text": [
      "YF.download() has changed argument auto_adjust default to True\n"
     ]
    },
    {
     "name": "stderr",
     "output_type": "stream",
     "text": [
      "[*********************100%***********************]  708 of 708 completed\n",
      "\n",
      "72 Failed downloads:\n",
      "['C1HI34.SA', 'N1LS34.SA', 'ISBC34.SA', 'K1CS34.SA', 'FLTC34.SA', 'P1IO34.SA', 'Z2EN34.SA', 'B1BL34.SA', 'INGG3.SA', 'A1MB34.SA', 'LBRN34.SA', 'E1XC34MONDE.SA', 'S2QS34.SA', 'I1NF34.SA', 'W1RK34.SA', 'A1MX34.SA', 'NUBR33.SA', 'D1RE34.SA', 'SLBC34.SA', 'B1GN34.SA', 'C1TX34.SA', 'M1RO34.SA', 'V1AR34.SA', 'RDSA34.SA', 'PTCH34.SA', 'BHPG34.SA', 'C1HL34.SA', 'F1RI34.SA', 'S2TO34.SA', 'A1BM34.SA', 'TWTR34.SA', 'F1RC34.SA', 'X1LN34.SA', 'A1YX34.SA', 'E1FX34.SA', 'T2PX34.SA', 'CAJI34.SA', 'FBOK34.SA', 'W1BK34.SA', 'C1SU34.SA', 'P1KI34.SA', 'L1IN34.SA', 'A1BB34.SA', 'ATVI34.SA', 'A2MC34.SA', 'A1NT34.SA', 'S1PL34.SA', 'E1NI34.SA', 'L1BT34.SA', 'D1IS34.SA', 'C1XO34.SA', 'P1BC34.SA', 'C1ER34.SA', 'U1NL34.SA', 'TIFF34.SA', 'RDSA35.SA', 'C1OU34.SA', 'CRHP34.SA', 'LSXM34.SA', 'DCVY35.SA', 'A1LX34.SA', 'L1BT35.SA', 'C1EO34.SA', 'LSXM35.SA', 'E2PD34.SA', 'A1UA34.SA', 'M1XI34.SA', 'S1GE34.SA', 'A2VL34.SA', 'L1FC34.SA', 'H1ZN34.SA', 'SBNY34.SA']: YFTzMissingError('possibly delisted; no timezone found')\n"
     ]
    },
    {
     "data": {
      "text/html": [
       "<div>\n",
       "<style scoped>\n",
       "    .dataframe tbody tr th:only-of-type {\n",
       "        vertical-align: middle;\n",
       "    }\n",
       "\n",
       "    .dataframe tbody tr th {\n",
       "        vertical-align: top;\n",
       "    }\n",
       "\n",
       "    .dataframe thead th {\n",
       "        text-align: right;\n",
       "    }\n",
       "</style>\n",
       "<table border=\"1\" class=\"dataframe\">\n",
       "  <thead>\n",
       "    <tr style=\"text-align: right;\">\n",
       "      <th>Ticker</th>\n",
       "      <th>A1AP34.SA</th>\n",
       "      <th>A1BB34.SA</th>\n",
       "      <th>A1BM34.SA</th>\n",
       "      <th>A1CR34.SA</th>\n",
       "      <th>A1DI34.SA</th>\n",
       "      <th>A1DM34.SA</th>\n",
       "      <th>A1EE34.SA</th>\n",
       "      <th>A1EG34.SA</th>\n",
       "      <th>A1EN34.SA</th>\n",
       "      <th>A1EP34.SA</th>\n",
       "      <th>...</th>\n",
       "      <th>XRXB34.SA</th>\n",
       "      <th>YUMR34.SA</th>\n",
       "      <th>Z1BH34.SA</th>\n",
       "      <th>Z1BR34.SA</th>\n",
       "      <th>Z1IO34.SA</th>\n",
       "      <th>Z1OM34.SA</th>\n",
       "      <th>Z1TO34.SA</th>\n",
       "      <th>Z1TS34.SA</th>\n",
       "      <th>Z2EN34.SA</th>\n",
       "      <th>Z2LL34.SA</th>\n",
       "    </tr>\n",
       "    <tr>\n",
       "      <th>Date</th>\n",
       "      <th></th>\n",
       "      <th></th>\n",
       "      <th></th>\n",
       "      <th></th>\n",
       "      <th></th>\n",
       "      <th></th>\n",
       "      <th></th>\n",
       "      <th></th>\n",
       "      <th></th>\n",
       "      <th></th>\n",
       "      <th></th>\n",
       "      <th></th>\n",
       "      <th></th>\n",
       "      <th></th>\n",
       "      <th></th>\n",
       "      <th></th>\n",
       "      <th></th>\n",
       "      <th></th>\n",
       "      <th></th>\n",
       "      <th></th>\n",
       "      <th></th>\n",
       "    </tr>\n",
       "  </thead>\n",
       "  <tbody>\n",
       "    <tr>\n",
       "      <th>2023-12-04</th>\n",
       "      <td>16.713531</td>\n",
       "      <td>NaN</td>\n",
       "      <td>NaN</td>\n",
       "      <td>40.032116</td>\n",
       "      <td>406.985931</td>\n",
       "      <td>357.412659</td>\n",
       "      <td>185.639633</td>\n",
       "      <td>26.343971</td>\n",
       "      <td>244.749222</td>\n",
       "      <td>186.937866</td>\n",
       "      <td>...</td>\n",
       "      <td>60.927998</td>\n",
       "      <td>307.691071</td>\n",
       "      <td>170.943161</td>\n",
       "      <td>39.240002</td>\n",
       "      <td>162.140198</td>\n",
       "      <td>13.35</td>\n",
       "      <td>25.921345</td>\n",
       "      <td>55.953598</td>\n",
       "      <td>NaN</td>\n",
       "      <td>15.76</td>\n",
       "    </tr>\n",
       "    <tr>\n",
       "      <th>2023-12-05</th>\n",
       "      <td>15.989411</td>\n",
       "      <td>NaN</td>\n",
       "      <td>NaN</td>\n",
       "      <td>40.032116</td>\n",
       "      <td>444.809601</td>\n",
       "      <td>355.972900</td>\n",
       "      <td>185.639633</td>\n",
       "      <td>26.343971</td>\n",
       "      <td>245.715652</td>\n",
       "      <td>186.937866</td>\n",
       "      <td>...</td>\n",
       "      <td>60.927998</td>\n",
       "      <td>307.691071</td>\n",
       "      <td>170.943161</td>\n",
       "      <td>39.240002</td>\n",
       "      <td>162.140198</td>\n",
       "      <td>13.32</td>\n",
       "      <td>25.921345</td>\n",
       "      <td>54.644051</td>\n",
       "      <td>NaN</td>\n",
       "      <td>15.76</td>\n",
       "    </tr>\n",
       "    <tr>\n",
       "      <th>2023-12-06</th>\n",
       "      <td>16.527609</td>\n",
       "      <td>NaN</td>\n",
       "      <td>NaN</td>\n",
       "      <td>40.032116</td>\n",
       "      <td>444.809601</td>\n",
       "      <td>347.694489</td>\n",
       "      <td>185.639633</td>\n",
       "      <td>26.842133</td>\n",
       "      <td>245.715652</td>\n",
       "      <td>188.521683</td>\n",
       "      <td>...</td>\n",
       "      <td>60.927998</td>\n",
       "      <td>307.691071</td>\n",
       "      <td>170.943161</td>\n",
       "      <td>39.240002</td>\n",
       "      <td>162.140198</td>\n",
       "      <td>14.08</td>\n",
       "      <td>25.921345</td>\n",
       "      <td>55.060722</td>\n",
       "      <td>NaN</td>\n",
       "      <td>15.76</td>\n",
       "    </tr>\n",
       "    <tr>\n",
       "      <th>2023-12-07</th>\n",
       "      <td>16.801603</td>\n",
       "      <td>NaN</td>\n",
       "      <td>NaN</td>\n",
       "      <td>43.593822</td>\n",
       "      <td>444.809601</td>\n",
       "      <td>352.305481</td>\n",
       "      <td>185.639633</td>\n",
       "      <td>26.842133</td>\n",
       "      <td>245.715652</td>\n",
       "      <td>188.521683</td>\n",
       "      <td>...</td>\n",
       "      <td>60.927998</td>\n",
       "      <td>307.691071</td>\n",
       "      <td>170.943161</td>\n",
       "      <td>39.240002</td>\n",
       "      <td>162.140198</td>\n",
       "      <td>14.11</td>\n",
       "      <td>25.921345</td>\n",
       "      <td>55.179771</td>\n",
       "      <td>NaN</td>\n",
       "      <td>15.76</td>\n",
       "    </tr>\n",
       "    <tr>\n",
       "      <th>2023-12-08</th>\n",
       "      <td>16.772245</td>\n",
       "      <td>NaN</td>\n",
       "      <td>NaN</td>\n",
       "      <td>41.506889</td>\n",
       "      <td>451.149872</td>\n",
       "      <td>353.005920</td>\n",
       "      <td>185.639633</td>\n",
       "      <td>26.842133</td>\n",
       "      <td>245.715652</td>\n",
       "      <td>188.905655</td>\n",
       "      <td>...</td>\n",
       "      <td>60.927998</td>\n",
       "      <td>307.691071</td>\n",
       "      <td>170.943161</td>\n",
       "      <td>39.240002</td>\n",
       "      <td>162.140198</td>\n",
       "      <td>14.23</td>\n",
       "      <td>25.921345</td>\n",
       "      <td>55.953598</td>\n",
       "      <td>NaN</td>\n",
       "      <td>15.76</td>\n",
       "    </tr>\n",
       "  </tbody>\n",
       "</table>\n",
       "<p>5 rows × 708 columns</p>\n",
       "</div>"
      ],
      "text/plain": [
       "Ticker      A1AP34.SA  A1BB34.SA  A1BM34.SA  A1CR34.SA   A1DI34.SA  \\\n",
       "Date                                                                 \n",
       "2023-12-04  16.713531        NaN        NaN  40.032116  406.985931   \n",
       "2023-12-05  15.989411        NaN        NaN  40.032116  444.809601   \n",
       "2023-12-06  16.527609        NaN        NaN  40.032116  444.809601   \n",
       "2023-12-07  16.801603        NaN        NaN  43.593822  444.809601   \n",
       "2023-12-08  16.772245        NaN        NaN  41.506889  451.149872   \n",
       "\n",
       "Ticker       A1DM34.SA   A1EE34.SA  A1EG34.SA   A1EN34.SA   A1EP34.SA  ...  \\\n",
       "Date                                                                   ...   \n",
       "2023-12-04  357.412659  185.639633  26.343971  244.749222  186.937866  ...   \n",
       "2023-12-05  355.972900  185.639633  26.343971  245.715652  186.937866  ...   \n",
       "2023-12-06  347.694489  185.639633  26.842133  245.715652  188.521683  ...   \n",
       "2023-12-07  352.305481  185.639633  26.842133  245.715652  188.521683  ...   \n",
       "2023-12-08  353.005920  185.639633  26.842133  245.715652  188.905655  ...   \n",
       "\n",
       "Ticker      XRXB34.SA   YUMR34.SA   Z1BH34.SA  Z1BR34.SA   Z1IO34.SA  \\\n",
       "Date                                                                   \n",
       "2023-12-04  60.927998  307.691071  170.943161  39.240002  162.140198   \n",
       "2023-12-05  60.927998  307.691071  170.943161  39.240002  162.140198   \n",
       "2023-12-06  60.927998  307.691071  170.943161  39.240002  162.140198   \n",
       "2023-12-07  60.927998  307.691071  170.943161  39.240002  162.140198   \n",
       "2023-12-08  60.927998  307.691071  170.943161  39.240002  162.140198   \n",
       "\n",
       "Ticker      Z1OM34.SA  Z1TO34.SA  Z1TS34.SA  Z2EN34.SA  Z2LL34.SA  \n",
       "Date                                                               \n",
       "2023-12-04      13.35  25.921345  55.953598        NaN      15.76  \n",
       "2023-12-05      13.32  25.921345  54.644051        NaN      15.76  \n",
       "2023-12-06      14.08  25.921345  55.060722        NaN      15.76  \n",
       "2023-12-07      14.11  25.921345  55.179771        NaN      15.76  \n",
       "2023-12-08      14.23  25.921345  55.953598        NaN      15.76  \n",
       "\n",
       "[5 rows x 708 columns]"
      ]
     },
     "execution_count": 6,
     "metadata": {},
     "output_type": "execute_result"
    }
   ],
   "source": [
    "prices = yf.download(tickers, start=start_date)['Close']\n",
    "\n",
    "prices.head()"
   ]
  },
  {
   "cell_type": "code",
   "execution_count": 7,
   "id": "2aa9d68c-fe70-4a61-93df-faf5f89966ed",
   "metadata": {},
   "outputs": [],
   "source": [
    "prices = prices.dropna(axis=1, how='all')"
   ]
  },
  {
   "cell_type": "markdown",
   "id": "9a0fe5c0-0a6c-41df-96d8-c4ee49f2c5e5",
   "metadata": {},
   "source": [
    "## Load\n",
    "---"
   ]
  },
  {
   "cell_type": "code",
   "execution_count": 8,
   "id": "69cd9cba-fefd-494d-8ab0-1c6c62c5ee61",
   "metadata": {},
   "outputs": [],
   "source": [
    "out_dir = os.path.join(os.pardir, \"output\")\n",
    "os.makedirs(out_dir, exist_ok=True)"
   ]
  },
  {
   "cell_type": "code",
   "execution_count": 9,
   "id": "33c61370-e079-4903-851c-93c0c1ddd7a4",
   "metadata": {},
   "outputs": [],
   "source": [
    "file_path = os.path.join(out_dir, \"bdr_prices.csv\")\n",
    "prices.to_csv(file_path)"
   ]
  },
  {
   "cell_type": "code",
   "execution_count": 10,
   "id": "802869d5-9788-4a36-8101-0791d383c64f",
   "metadata": {},
   "outputs": [
    {
     "name": "stdout",
     "output_type": "stream",
     "text": [
      "file saved successfully to: ../output/bdr_prices.csv\n"
     ]
    }
   ],
   "source": [
    "print(f\"file saved successfully to: {file_path}\")"
   ]
  },
  {
   "cell_type": "code",
   "execution_count": null,
   "id": "1fa6d3f0-d2dd-444b-8804-b806830a84c6",
   "metadata": {},
   "outputs": [],
   "source": []
  }
 ],
 "metadata": {
  "kernelspec": {
   "display_name": "Python 3 (ipykernel)",
   "language": "python",
   "name": "python3"
  },
  "language_info": {
   "codemirror_mode": {
    "name": "ipython",
    "version": 3
   },
   "file_extension": ".py",
   "mimetype": "text/x-python",
   "name": "python",
   "nbconvert_exporter": "python",
   "pygments_lexer": "ipython3",
   "version": "3.12.3"
  }
 },
 "nbformat": 4,
 "nbformat_minor": 5
}
